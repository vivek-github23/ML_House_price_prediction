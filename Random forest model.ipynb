{
 "cells": [
  {
   "cell_type": "code",
   "execution_count": 1,
   "id": "5ca56ccc",
   "metadata": {},
   "outputs": [],
   "source": [
    "import pandas as pd\n",
    "import numpy as np\n"
   ]
  },
  {
   "cell_type": "code",
   "execution_count": 2,
   "id": "d366eefa",
   "metadata": {},
   "outputs": [],
   "source": [
    "df=pd.read_csv('C:/Users/aakas/Desktop/Downloads/Chrome Downloads/output1.csv')"
   ]
  },
  {
   "cell_type": "code",
   "execution_count": 3,
   "id": "5ba87567",
   "metadata": {},
   "outputs": [],
   "source": [
    "df_test=pd.read_csv(\"C:/Users/aakas/Desktop/Downloads/Chrome Downloads/datatotest.csv\")"
   ]
  },
  {
   "cell_type": "code",
   "execution_count": 4,
   "id": "e40693ba",
   "metadata": {},
   "outputs": [],
   "source": [
    "df_test['review_text'].fillna('', inplace=True)\n"
   ]
  },
  {
   "cell_type": "code",
   "execution_count": 5,
   "id": "b1253f8f",
   "metadata": {},
   "outputs": [
    {
     "name": "stdout",
     "output_type": "stream",
     "text": [
      "Accuracy: 0.48668169407581435\n",
      "              precision    recall  f1-score   support\n",
      "\n",
      "           0       0.60      0.21      0.31      4387\n",
      "           1       0.47      0.05      0.08      3980\n",
      "           2       0.41      0.05      0.09     10206\n",
      "           3       0.45      0.30      0.36     26499\n",
      "           4       0.44      0.68      0.53     43934\n",
      "           5       0.59      0.59      0.59     36986\n",
      "\n",
      "    accuracy                           0.49    125992\n",
      "   macro avg       0.49      0.31      0.33    125992\n",
      "weighted avg       0.49      0.49      0.46    125992\n",
      "\n"
     ]
    }
   ],
   "source": [
    "import numpy as np\n",
    "import pandas as pd\n",
    "from sklearn.model_selection import train_test_split\n",
    "from sklearn.feature_extraction.text import TfidfVectorizer\n",
    "from sklearn.ensemble import RandomForestClassifier\n",
    "from sklearn.preprocessing import StandardScaler, LabelEncoder\n",
    "from sklearn.metrics import accuracy_score, classification_report\n",
    "\n",
    "# Drop rows with NaN values in 'review_text' column\n",
    "df_input = df[['review_text', 'n_votes', 'n_comments', 'rating']]\n",
    "df_input = df_input.dropna(subset=['review_text'])\n",
    "\n",
    "# Split the data into training and testing sets\n",
    "train_data, test_data, train_labels, test_labels = train_test_split(\n",
    "    df_input[['review_text', 'n_votes', 'n_comments']], df_input['rating'],\n",
    "    test_size=0.2, random_state=0\n",
    ")\n",
    "\n",
    "# TF-IDF vectorization\n",
    "tfidf_vectorizer = TfidfVectorizer(max_features=5000)\n",
    "X_train_tfidf = tfidf_vectorizer.fit_transform(train_data['review_text'])\n",
    "X_test_tfidf = tfidf_vectorizer.transform(test_data['review_text'])\n",
    "\n",
    "# Convert labels to numerical format\n",
    "label_encoder = LabelEncoder()\n",
    "y_train = label_encoder.fit_transform(train_labels)\n",
    "y_test = label_encoder.transform(test_labels)\n",
    "\n",
    "# Build the Random Forest model\n",
    "random_forest_model = RandomForestClassifier(n_estimators=100, random_state=0)\n",
    "\n",
    "# Train the model\n",
    "random_forest_model.fit(X_train_tfidf, y_train)\n",
    "\n",
    "# Evaluate the model on the test set\n",
    "y_pred = random_forest_model.predict(X_test_tfidf)\n",
    "accuracy = accuracy_score(y_test, y_pred)\n",
    "print(f'Accuracy: {accuracy}')\n",
    "\n",
    "# Additional metrics\n",
    "print(classification_report(y_test, y_pred))\n"
   ]
  },
  {
   "cell_type": "code",
   "execution_count": 6,
   "id": "27db5cb9",
   "metadata": {},
   "outputs": [],
   "source": [
    "X_final_test_tfidf = tfidf_vectorizer.transform(df_test['review_text'])"
   ]
  },
  {
   "cell_type": "code",
   "execution_count": 7,
   "id": "6ab0d807",
   "metadata": {},
   "outputs": [],
   "source": [
    "y_pred_final = random_forest_model.predict(X_final_test_tfidf)"
   ]
  },
  {
   "cell_type": "code",
   "execution_count": 8,
   "id": "92243bd6",
   "metadata": {},
   "outputs": [
    {
     "data": {
      "text/plain": [
       "(270000,)"
      ]
     },
     "execution_count": 8,
     "metadata": {},
     "output_type": "execute_result"
    }
   ],
   "source": [
    "y_pred_final.shape"
   ]
  },
  {
   "cell_type": "code",
   "execution_count": 9,
   "id": "952105fd",
   "metadata": {},
   "outputs": [
    {
     "name": "stdout",
     "output_type": "stream",
     "text": [
      "                               review_id  Prediction\n",
      "0       583b1ad3d3ab9b0f967bc73c2f5d68d8           4\n",
      "1       e53e941fb1bd2f76fb270cedbb1479b8           5\n",
      "2       e2ab3d609db0a5c7aaed9ee136073c53           4\n",
      "3       740ebae0f5b7fd0b7c9890ef306099f6           5\n",
      "4       f4812f3464aaf50d56480025afb22c57           3\n",
      "...                                  ...         ...\n",
      "269995  1bccc443a9a97a3fd0b45646f39b6465           4\n",
      "269996  ea52067f73ba6de7563eaf4567d423ef           4\n",
      "269997  153121e003a1d19db89d45723dd0ad8e           4\n",
      "269998  ce89b8c499252125f8983ef04a0d4ad9           4\n",
      "269999  454e60cbf37ec1479d0e2438cab10108           4\n",
      "\n",
      "[270000 rows x 2 columns]\n"
     ]
    }
   ],
   "source": [
    "import pandas as pd\n",
    "\n",
    "# Assuming df_test is your original DataFrame and 'review_id' is a column in it\n",
    "# If df_test is already a DataFrame, you might want to access 'review_id' directly.\n",
    "# If df_test is not a DataFrame, replace df_test with your actual DataFrame.\n",
    "\n",
    "df1 = df_test['review_id'].reset_index(drop=True)  # Reset index\n",
    "df2 = pd.Series(y_pred_final, name='Prediction')   # Convert NumPy array to Pandas Series\n",
    "\n",
    "# Merge the DataFrames using pd.concat\n",
    "merged_df = pd.concat([df1, df2], axis=1)\n",
    "\n",
    "# Display the merged DataFrame\n",
    "print(merged_df)\n",
    "\n",
    "# Save the merged DataFrame to a new CSV file\n",
    "merged_df.to_csv('merged_data.csv', index=False)\n"
   ]
  },
  {
   "cell_type": "code",
   "execution_count": 10,
   "id": "f473db36",
   "metadata": {},
   "outputs": [
    {
     "name": "stdout",
     "output_type": "stream",
     "text": [
      "C:\\Users\\aakas\n"
     ]
    }
   ],
   "source": [
    "import os\n",
    "print(os.getcwd())"
   ]
  },
  {
   "cell_type": "code",
   "execution_count": null,
   "id": "11ea1785",
   "metadata": {},
   "outputs": [],
   "source": []
  }
 ],
 "metadata": {
  "kernelspec": {
   "display_name": "Python 3 (ipykernel)",
   "language": "python",
   "name": "python3"
  },
  "language_info": {
   "codemirror_mode": {
    "name": "ipython",
    "version": 3
   },
   "file_extension": ".py",
   "mimetype": "text/x-python",
   "name": "python",
   "nbconvert_exporter": "python",
   "pygments_lexer": "ipython3",
   "version": "3.11.4"
  }
 },
 "nbformat": 4,
 "nbformat_minor": 5
}
